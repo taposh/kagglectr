{
 "metadata": {
  "name": "",
  "signature": "sha256:64274dc210819d33c58ecc5982a2920bbd70137da810cd1c9ebf95fe71fe779c"
 },
 "nbformat": 3,
 "nbformat_minor": 0,
 "worksheets": [
  {
   "cells": [
    {
     "cell_type": "code",
     "collapsed": false,
     "input": [
      "import random\n",
      " \n",
      "def direct_pi(N):\n",
      "    n_hits = 0\n",
      "    for i in range(N):\n",
      "        x, y = random.uniform(-1.0, 1.0), random.uniform(-1.0, 1.0)\n",
      "        if x ** 2 + y ** 2 < 1.0:\n",
      "            n_hits += 1\n",
      "    return n_hits\n",
      " \n",
      "n_runs = 10\n",
      "n_trials = 40\n",
      "for run in range(n_runs):\n",
      "    print (4.0 * direct_pi(n_trials) / float(n_trials))\n"
     ],
     "language": "python",
     "metadata": {},
     "outputs": [
      {
       "output_type": "stream",
       "stream": "stdout",
       "text": [
        "3.0\n",
        "3.5\n",
        "3.1\n",
        "3.2\n",
        "3.4\n",
        "3.0\n",
        "3.2\n",
        "3.1\n",
        "3.1\n",
        "3.1\n"
       ]
      }
     ],
     "prompt_number": 3
    },
    {
     "cell_type": "code",
     "collapsed": false,
     "input": [
      "Markov"
     ],
     "language": "python",
     "metadata": {},
     "outputs": []
    },
    {
     "cell_type": "code",
     "collapsed": false,
     "input": [
      "import random\n",
      "\n",
      "x, y = 1.0, 1.0\n",
      "delta = 0.1\n",
      "n_trials = 4000\n",
      "n_hits = 0\n",
      "for i in range(n_trials):\n",
      "    del_x, del_y = random.uniform(-delta, delta), random.uniform(-delta, delta)\n",
      "    if abs(x + del_x) < 1.0 and abs(y + del_y) < 1.0:\n",
      "        x, y = x + del_x, y + del_y\n",
      "    if x**2 + y**2 < 1.0: n_hits += 1\n",
      "        \n",
      "        \n",
      "n_runs = 10\n",
      "n_trials = 40\n",
      "for run in range(n_runs):\n",
      "    print (4.0 * n_hits / float(n_trials))\n"
     ],
     "language": "python",
     "metadata": {},
     "outputs": [
      {
       "output_type": "stream",
       "stream": "stdout",
       "text": [
        "303.4\n",
        "303.4\n",
        "303.4\n",
        "303.4\n",
        "303.4\n",
        "303.4\n",
        "303.4\n",
        "303.4\n",
        "303.4\n",
        "303.4\n"
       ]
      }
     ],
     "prompt_number": 5
    },
    {
     "cell_type": "code",
     "collapsed": false,
     "input": [],
     "language": "python",
     "metadata": {},
     "outputs": []
    }
   ],
   "metadata": {}
  }
 ]
}