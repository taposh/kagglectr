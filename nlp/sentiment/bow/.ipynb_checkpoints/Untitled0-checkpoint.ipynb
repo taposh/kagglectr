{
 "metadata": {
  "name": "",
  "signature": "sha256:ef3da241be55d184334d0caeccafdaaff93c13a7d6091fda51028d20d77350c9"
 },
 "nbformat": 3,
 "nbformat_minor": 0,
 "worksheets": [
  {
   "cells": [
    {
     "cell_type": "code",
     "collapsed": false,
     "input": [
      "print(__doc__)\n",
      "\n",
      "import numpy as np\n",
      "\n",
      "# Create a random dataset\n",
      "rng = np.random.RandomState(1)\n",
      "X = np.sort(5 * rng.rand(80, 1), axis=0)\n",
      "y = np.sin(X).ravel()\n",
      "y[::5] += 3 * (0.5 - rng.rand(16))\n",
      "\n"
     ],
     "language": "python",
     "metadata": {},
     "outputs": [
      {
       "output_type": "stream",
       "stream": "stdout",
       "text": [
        "Automatically created module for IPython interactive environment\n"
       ]
      }
     ],
     "prompt_number": 1
    },
    {
     "cell_type": "code",
     "collapsed": false,
     "input": [
      "# Fit regression model\n",
      "from sklearn.tree import DecisionTreeRegressor\n",
      "\n",
      "clf_1 = DecisionTreeRegressor(max_depth=2)\n",
      "clf_2 = DecisionTreeRegressor(max_depth=5)\n",
      "clf_1.fit(X, y)\n",
      "clf_2.fit(X, y)\n",
      "\n"
     ],
     "language": "python",
     "metadata": {},
     "outputs": [
      {
       "metadata": {},
       "output_type": "pyout",
       "prompt_number": 2,
       "text": [
        "DecisionTreeRegressor(compute_importances=None, criterion='mse', max_depth=5,\n",
        "           max_features=None, max_leaf_nodes=None, min_density=None,\n",
        "           min_samples_leaf=1, min_samples_split=2, random_state=None,\n",
        "           splitter='best')"
       ]
      }
     ],
     "prompt_number": 2
    },
    {
     "cell_type": "code",
     "collapsed": false,
     "input": [
      "# Predict\n",
      "X_test = np.arange(0.0, 5.0, 0.01)[:, np.newaxis]\n",
      "y_1 = clf_1.predict(X_test)\n",
      "y_2 = clf_2.predict(X_test)\n",
      "\n"
     ],
     "language": "python",
     "metadata": {},
     "outputs": []
    },
    {
     "cell_type": "code",
     "collapsed": false,
     "input": [
      "# Plot the results\n",
      "import matplotlib.pyplot as plt\n",
      "\n",
      "plt.figure()\n",
      "plt.scatter(X, y, c=\"k\", label=\"data\")\n",
      "plt.plot(X_test, y_1, c=\"g\", label=\"max_depth=2\", linewidth=2)\n",
      "plt.plot(X_test, y_2, c=\"r\", label=\"max_depth=5\", linewidth=2)\n",
      "plt.xlabel(\"data\")\n",
      "plt.ylabel(\"target\")\n",
      "plt.title(\"Decision Tree Regression\")\n",
      "plt.legend()\n",
      "plt.show()"
     ],
     "language": "python",
     "metadata": {},
     "outputs": []
    }
   ],
   "metadata": {}
  }
 ]
}