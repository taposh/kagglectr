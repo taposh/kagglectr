{
 "cells": [
  {
   "cell_type": "markdown",
   "metadata": {},
   "source": [
    "#Yhat Presentation \n",
    "Date: March 16th 2015\n",
    "\n",
    "Copyright (c) 2015, Taposh Dutta Roy All rights reserved.\n",
    "\n",
    "Redistribution and use in source and binary forms, with or without modification, are permitted provided that the following conditions are met: Redistributions of source code must retain the above copyright notice, this list of conditions and the following disclaimer. Redistributions in binary form must reproduce the above copyright notice, this list of conditions and the following disclaimer in the documentation and/or other materials provided with the distribution. * Neither the name of the Taposh Dutta Roy nor the names of its contributors may be used to endorse or promote products derived from this software without specific prior written permission.\n",
    "\n",
    "THIS SOFTWARE IS PROVIDED BY THE COPYRIGHT HOLDERS AND CONTRIBUTORS \"AS IS\" AND ANY EXPRESS OR IMPLIED WARRANTIES, INCLUDING, BUT NOT LIMITED TO, THE IMPLIED WARRANTIES OF MERCHANTABILITY AND FITNESS FOR A PARTICULAR PURPOSE ARE DISCLAIMED. IN NO EVENT SHALL RAFAEL CARRASCOSA BE LIABLE FOR ANY DIRECT, INDIRECT, INCIDENTAL, SPECIAL, EXEMPLARY, OR CONSEQUENTIAL DAMAGES (INCLUDING, BUT NOT LIMITED TO, PROCUREMENT OF SUBSTITUTE GOODS OR SERVICES; LOSS OF USE, DATA, OR PROFITS; OR BUSINESS INTERRUPTION) HOWEVER CAUSED AND ON ANY THEORY OF LIABILITY, WHETHER IN CONTRACT, STRICT LIABILITY, OR TORT (INCLUDING NEGLIGENCE OR OTHERWISE) ARISING IN ANY WAY OUT OF THE USE OF THIS SOFTWARE, EVEN IF ADVISED OF THE POSSIBILITY OF SUCH DAMAGE.\n",
    "\n",
    "\n",
    "##Bokeh\n",
    "\n",
    "** Bokeh is a Python interactive visualization library that targets modern web browsers for presentation providing elegant, concise construction of novel graphics with high-performance interactivity over very large or streaming datasets in quick and easy way.\n",
    "\n",
    "Offering both powerful and flexible features to enable very advanced customizations in one hand and simplicity on the other Bokeh exposes different interface levels to the users:\n",
    "\n",
    "- a low Level (and more flexible) glyph interface\n",
    "- an intermediate level interface called plotting\n",
    "- a high level interface that can be used to build complexs plot in a simple way.\n",
    "\n",
    "Charts layer is still experimental and may significantly change in the next releases. Plotting should be preferred for a more stable or production code. For this reason we will focus mainly on showing plotting in this quickstart section.\n",
    "\n",
    "*More\n",
    "\n",
    "http://bokeh.pydata.org/en/latest/docs/quickstart.html#quickstart\n"
   ]
  },
  {
   "cell_type": "markdown",
   "metadata": {},
   "source": [
    "### Line Example"
   ]
  },
  {
   "cell_type": "code",
   "execution_count": 4,
   "metadata": {
    "collapsed": false
   },
   "outputs": [
    {
     "name": "stdout",
     "output_type": "stream",
     "text": [
      "Session output file 'lines.html' already exists, will be overwritten.\n"
     ]
    }
   ],
   "source": [
    "from bokeh.plotting import figure, output_file, show\n",
    "\n",
    "# prepare some data\n",
    "x = [0, 2, 3, 4, 5]\n",
    "y = [6, 7, 2, 3, 5]\n",
    "\n",
    "# output to static HTML file\n",
    "output_file(\"lines.html\", title=\"line plot example\")\n",
    "\n",
    "# Plot a `line` renderer setting the color, line thickness, title, and legend value.\n",
    "p = figure(title=\"simple line example\")\n",
    "p.line(x, y, legend=\"Temp.\", x_axis_label='x', y_axis_label='y')\n",
    "\n",
    "show(p)"
   ]
  },
  {
   "cell_type": "markdown",
   "metadata": {},
   "source": [
    "###Histogram Example"
   ]
  },
  {
   "cell_type": "code",
   "execution_count": 3,
   "metadata": {
    "collapsed": true
   },
   "outputs": [],
   "source": [
    "import numpy as np\n",
    "from bokeh.plotting import figure, output_file, show\n",
    "\n",
    "# prepare data\n",
    "mu, sigma = 0, 0.5\n",
    "measured = np.random.normal(mu, sigma, 1000)\n",
    "hist, edges = np.histogram(measured, density=True, bins=50)\n",
    "x = np.linspace(-2, 2, 1000)\n",
    "\n",
    "# output to static HTML file\n",
    "output_file('histogram.html')\n",
    "\n",
    "p = figure(title=\"Histogram\", background_fill=\"#E8DDCB\")\n",
    "p.quad(top=hist, bottom=0, left=edges[:-1], right=edges[1:],\n",
    "       fill_color=\"#036564\", line_color=\"#033649\")\n",
    "\n",
    "# customize axes\n",
    "xa, ya = p.axis\n",
    "xa.axis_label = 'x'\n",
    "ya.axis_label = 'Pr(x)'\n",
    "\n",
    "show(p)"
   ]
  },
  {
   "cell_type": "markdown",
   "metadata": {},
   "source": [
    "### Distribution Example"
   ]
  },
  {
   "cell_type": "code",
   "execution_count": 5,
   "metadata": {
    "collapsed": false
   },
   "outputs": [
    {
     "name": "stdout",
     "output_type": "stream",
     "text": [
      "Session output file 'histogram.html' already exists, will be overwritten.\n"
     ]
    }
   ],
   "source": [
    "import numpy as np\n",
    "import scipy.special\n",
    "from bokeh.plotting import figure, output_file, show\n",
    "\n",
    "# prepare data\n",
    "mu, sigma = 0, 0.5\n",
    "measured = np.random.normal(mu, sigma, 1000)\n",
    "hist, edges = np.histogram(measured, density=True, bins=50)\n",
    "x = np.linspace(-2, 2, 1000)\n",
    "pdf = 1/(sigma * np.sqrt(2*np.pi)) * np.exp(-(x-mu)**2 / (2*sigma**2))\n",
    "cdf = (1+scipy.special.erf((x-mu)/np.sqrt(2*sigma**2)))/2\n",
    "\n",
    "# output to static HTML file\n",
    "output_file('histogram.html')\n",
    "\n",
    "# prepare the histogram\n",
    "p = figure(title=\"Normal Distribution (μ=0, σ=0.5)\",tools=\"previewsave\",\n",
    "           background_fill=\"#E8DDCB\")\n",
    "p.quad(top=hist, bottom=0, left=edges[:-1], right=edges[1:],\n",
    "       fill_color=\"#036564\", line_color=\"#033649\",)\n",
    "\n",
    "# Use `line` renderers to display the PDF and CDF\n",
    "p.line(x, pdf, line_color=\"#D95B43\", line_width=8, alpha=0.7, legend=\"PDF\")\n",
    "p.line(x, cdf, line_color=\"white\", line_width=2, alpha=0.7, legend=\"CDF\")\n",
    "\n",
    "# customize axes\n",
    "p.legend.orientation = \"top_left\"\n",
    "xa, ya = p.axis\n",
    "xa.axis_label = 'x'\n",
    "ya.axis_label = 'Pr(x)'\n",
    "\n",
    "show(p)"
   ]
  },
  {
   "cell_type": "code",
   "execution_count": null,
   "metadata": {
    "collapsed": true
   },
   "outputs": [],
   "source": []
  }
 ],
 "metadata": {
  "kernelspec": {
   "display_name": "Python 3",
   "language": "python",
   "name": "python3"
  },
  "language_info": {
   "codemirror_mode": {
    "name": "ipython",
    "version": 3
   },
   "file_extension": ".py",
   "mimetype": "text/x-python",
   "name": "python",
   "nbconvert_exporter": "python",
   "pygments_lexer": "ipython3",
   "version": "3.4.3"
  }
 },
 "nbformat": 4,
 "nbformat_minor": 0
}
